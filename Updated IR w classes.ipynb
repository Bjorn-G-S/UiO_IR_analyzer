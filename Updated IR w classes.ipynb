{
 "cells": [
  {
   "cell_type": "code",
   "execution_count": 4,
   "id": "6114f6fa",
   "metadata": {},
   "outputs": [
    {
     "name": "stdout",
     "output_type": "stream",
     "text": [
      "The autoreload extension is already loaded. To reload it, use:\n",
      "  %reload_ext autoreload\n",
      "Warning: Cannot change to a different GUI toolkit: notebook. Using widget instead.\n"
     ]
    }
   ],
   "source": [
    "%matplotlib widget\n",
    "%load_ext autoreload\n",
    "%autoreload 2\n",
    "%gui asyncio\n",
    "%matplotlib notebook\n",
    "%matplotlib widget\n",
    "\n",
    "import os\n",
    "import pandas as pd\n",
    "import numpy as np\n",
    "#from decimal import Decimal\n",
    "\n",
    "import ipywidgets as widgets\n",
    "from IPython.display import Javascript, display, HTML\n",
    "from ipywidgets import widgets, interact, interact_manual, HBox, VBox \n",
    "import ipysheet\n",
    "from ipysheet import calculation\n",
    "\n",
    "import matplotlib.pyplot as plt\n",
    "import matplotlib\n",
    "matplotlib.rcParams[\"figure.dpi\"] = 100\n",
    "from matplotlib.widgets import SpanSelector\n",
    "from scipy import trapz\n",
    "%config IPCompleter.greedy=True\n",
    "\n",
    "\n",
    "import matplotlib.colors as colors\n",
    "\n",
    "import scipy.integrate as sp# trapz, Simps, cumtrapz, romb\n",
    "import ipywidgets as widgets\n",
    "\n",
    "import asyncio\n",
    "import mplcursors\n",
    "\n",
    "from colour import Color\n",
    "from IPython.display import display, clear_output\n",
    "from ipywidgets import interact, interactive, fixed, interact_manual\n",
    "from adjustText import adjust_text\n",
    "from lmfit import models\n",
    "\n",
    "\n",
    "from IR_class import IR_analysis"
   ]
  },
  {
   "cell_type": "markdown",
   "id": "4fff1a60",
   "metadata": {},
   "source": [
    "# IR-Data-Analyzer\n",
    "\n",
    "* [General](#general-info)\n",
    "* [Purpose](#purpose)\n",
    "* [Instalation](#installation)\n",
    "* [How-to](#how-to)\n",
    "* [Comments](#Comments)\n",
    "\n",
    "\n",
    "## General\n",
    "\n",
    "IR-Data-Analyser is a python package to be used within the Jupyter environment for \n",
    "analysing and processing IR spectroscopy data.\n",
    "Currently IR-Data-Analyser is used at the section for catalysis at\n",
    "the University of Oslo.\n",
    "\n",
    "## Purpose\n",
    "\n",
    "IR-Data-Analyser was created to improve data analysis workflow and has been designed\n",
    "to be easily extended with more advanced analysis, both quantitive and qualitive analysis. \n",
    "\n",
    "## Installation\n",
    "\n",
    "\n",
    "The following python packages are needed:\n",
    "\n",
    "<ul>\n",
    "    <li>python (>= 3.8.8)\n",
    "    <li>jupyter (>= 1.0.0)\n",
    "    <li>jupyterlab (>= 2.2.6)\n",
    "    <li>pandas (>= 1.1.3) \n",
    "    <li>matplotlib (>= 3.3.1)\n",
    "    <li>ipympl (>= 0.5.8)\n",
    "    <li>numpy (>= 1.19.1)\n",
    "    <li>ipywidgets (>= 7.5.1)\n",
    "    <li>ipysheet (>= 0.4.0)\n",
    "    <li>xlsxwriter (>=1.3.7)\n",
    "    <li>natsort (>= 7.0.1)\n",
    "    <li>colour (>= 0.1.5)\n",
    "    <li>lmfit (>= 1.0.2)\n",
    "    <li>adjusttext (>= 0.7.3.1)   \n",
    "</ul>\n",
    "\n",
    "The following JupyterLab extensions should be installed: <br>\n",
    "\n",
    "<ul>\n",
    "    <li>@jupyter-widgets/jupyterlab-manager (Required)\n",
    "    <li>jupyter-matplotlib (Required)  \n",
    "    <li>@epi2melabs/jupyterlab-autorun-cells (Optional)\n",
    "    <li>@aquirdturtle/collapsible_headings (Optional)\n",
    "    <li>@jupyterlab/toc (Optional)\n",
    "</ul>\n",
    "\n",
    "\n",
    "\n",
    "## How-to\n",
    "\n",
    "Download the notebook and the python script and open in Jupyter lab. It is important to change the directory for the raw data files to the correct directory. \n",
    "The program will read every folder in the give directory and can analyse several spectra at once.\n",
    "\n",
    "```\n",
    "def __init__(self,*args,**kwargs):\n",
    "\n",
    "    \n",
    "        directory= r'CHANGE THE DIRECTORY FOR THE CORRECT LOCATION OF THE RAW DATA FOLDERS'\n",
    "        together = list()\n",
    "        for root, dirs, files in os.walk(directory, topdown=False):\n",
    "            for name in dirs:\n",
    "                joint = ('{}'.format(name), os.path.join(root, name))\n",
    "                together.append(joint)\n",
    "        ...\n",
    "```\n",
    "and \n",
    "```\n",
    "def Reshape_file_names(self,**kwargs):\n",
    "        directory = r'CHANGE THE DIRECTORY FOR THE CORRECT LOCATION OF THE RAW DATA FOLDERS'\n",
    "        together = list()\n",
    "        for root, dirs, files in os.walk(directory, topdown=False):\n",
    "                for name in dirs:\n",
    "                    joint = ('{}'.format(name), os.path.join(root, name))\n",
    "                    together.append(joint)\n",
    "                    \n",
    "def rehape(self,**kwargs):\n",
    "        entry = kwargs.get('entry', 0)\n",
    "        directory = kwargs.get('directory', r'CHANGE THE DIRECTORY FOR THE CORRECT LOCATION OF THE RAW DATA FOLDERS')\n",
    "        for file in os.listdir(directory): #apend all the IR spectro files into a list\n",
    "        ...\n",
    "```\n",
    "\n",
    "\n",
    "To navigate the the program, use the `obj.help()` method.\n",
    "\n",
    "\n",
    "## Comments\n",
    "\n",
    "Annotation in the `IR_class.py` have been added to more easily navigate the code.\n",
    "\n",
    "For any questions please email **b.g.solemsli@smn.uio.no**\n",
    "\n",
    "\n",
    "\n"
   ]
  },
  {
   "cell_type": "code",
   "execution_count": 5,
   "id": "a31d4061",
   "metadata": {},
   "outputs": [
    {
     "data": {
      "application/vnd.jupyter.widget-view+json": {
       "model_id": "f2a64d70280c470bb21a195ec83700f6",
       "version_major": 2,
       "version_minor": 0
      },
      "text/plain": [
       "interactive(children=(Dropdown(description='Eksperiment:', layout=Layout(width='90%'), options=(('extra', 'C:\\…"
      ]
     },
     "metadata": {},
     "output_type": "display_data"
    }
   ],
   "source": [
    "Test = IR_analysis()\n",
    "Test.getting_IR_files()"
   ]
  },
  {
   "cell_type": "code",
   "execution_count": 7,
   "id": "e27f8fb4",
   "metadata": {
    "tags": []
   },
   "outputs": [
    {
     "name": "stdout",
     "output_type": "stream",
     "text": [
      "\n",
      "        \n",
      "        \n",
      "\n",
      "\n",
      "                                              THIS CLASS IS USED FOR ANALYZING IR SPECTRA USING JUPYTER NOTEBOOK\n",
      "                                              use the following commands in the IR_analysis:\n",
      "\n",
      "\n",
      "        obj.help()                    -        Will give this list over commands, and what their function is.\n",
      "\n",
      "\n",
      "\n",
      "\n",
      "\n",
      "\n",
      "                                              IR:\n",
      "\n",
      "\n",
      "\n",
      "        obj.Reshape_file_names        -        Used to reshape files so that they are .01->.99 or .001->.999. ONLY USE THIS ONA COPY OF THE RAW DATA. NO BACKSIES POSSIBLE\n",
      "        \n",
      "        obj.getting_IR_files()        -        Used to read the IR file/files from a given directory. Will needed to be called prior to do any other method is called.\n",
      "\n",
      "        obj.IR_spectrum_read_to_df()  -        Used to load all data into a pandas dataframe. Also useful so se what files are included in the dataframe\n",
      "        \n",
      "        obj.plot()                    -        Used to plot the raw (not normalized) data and used to choose the point to normalize to\n",
      " \n",
      "        obj.plot_norm()               -        Used to plot the normalized data\n",
      "        \n",
      "        obj.plot_subtracted()         -        Used for plot a subrtacted spectra. used first and last form plot_norm(). Can also smooth using the Savitzky-Golay filter\n",
      "\n",
      "        obj.peak_finder()             -        Used to guess the peaks of the soothed subtractedplot form plot_subtracted()\n",
      "\n",
      "        obj.Choose_one_spectrum()     -        Used to chose one spectrum for ALS_peak fitter()\n",
      "\n",
      "        obj.ALS_peak_fitter()         -        Used to deconvolute peaks using differnt curve models using lmfit \n",
      "\n",
      "        obj.selective_subtract()      -        Used to subtract two specified specra after normalizing the data\n",
      "\n",
      "        obj.Area_tool()               -        Used to integrate peaks in a single spectrum for quantification. Will need file to be manually read in the .csv form. \n",
      "\n",
      "\n",
      "\n",
      "        \n",
      "        \n",
      "        \n",
      "        \n",
      "        \n"
     ]
    }
   ],
   "source": [
    "Test.help()"
   ]
  },
  {
   "cell_type": "code",
   "execution_count": 3,
   "id": "0c8d0fd0",
   "metadata": {
    "collapsed": true,
    "jupyter": {
     "outputs_hidden": true
    },
    "tags": []
   },
   "outputs": [
    {
     "name": "stdout",
     "output_type": "stream",
     "text": [
      "2\n"
     ]
    },
    {
     "data": {
      "text/plain": [
       "{'beta_tomo004_after_probing.csv':              cm-1  Absorbance\n",
       " 0     3998.383087    2.084953\n",
       " 1     3997.740260    2.084711\n",
       " 2     3997.097434    2.085178\n",
       " 3     3996.454607    2.087095\n",
       " 4     3995.811780    2.090139\n",
       " ...           ...         ...\n",
       " 5594   402.409616    4.178923\n",
       " 5595   401.766789    4.178727\n",
       " 5596   401.123962    4.178335\n",
       " 5597   400.481136    4.177813\n",
       " 5598   399.838309    4.177226\n",
       " \n",
       " [5599 rows x 2 columns],\n",
       " 'beta_tomo004_pre_probing.csv':              cm-1  Absorbance\n",
       " 0     3998.383087    2.085580\n",
       " 1     3997.740260    2.085226\n",
       " 2     3997.097434    2.085669\n",
       " 3     3996.454607    2.087659\n",
       " 4     3995.811780    2.090988\n",
       " ...           ...         ...\n",
       " 5594   402.409616    3.776706\n",
       " 5595   401.766789    3.776487\n",
       " 5596   401.123962    3.776182\n",
       " 5597   400.481136    3.775833\n",
       " 5598   399.838309    3.775527\n",
       " \n",
       " [5599 rows x 2 columns]}"
      ]
     },
     "metadata": {},
     "output_type": "display_data"
    }
   ],
   "source": [
    "Test.IR_spectrum_read_to_df()"
   ]
  },
  {
   "cell_type": "code",
   "execution_count": 4,
   "id": "98c064ba",
   "metadata": {
    "tags": []
   },
   "outputs": [
    {
     "data": {
      "application/vnd.jupyter.widget-view+json": {
       "model_id": "1296987411f3413a94175a8c534bbcd2",
       "version_major": 2,
       "version_minor": 0
      },
      "text/plain": [
       "Canvas(toolbar=Toolbar(toolitems=[('Home', 'Reset original view', 'home', 'home'), ('Back', 'Back to previous …"
      ]
     },
     "metadata": {},
     "output_type": "display_data"
    },
    {
     "data": {
      "application/vnd.jupyter.widget-view+json": {
       "model_id": "19289fc5254c4452a47c00cd9a93a1aa",
       "version_major": 2,
       "version_minor": 0
      },
      "text/plain": [
       "interactive(children=(IntRangeSlider(value=(0, 1), description='No. of spectra displayed:', layout=Layout(widt…"
      ]
     },
     "metadata": {},
     "output_type": "display_data"
    }
   ],
   "source": [
    "Test.plot()"
   ]
  },
  {
   "cell_type": "code",
   "execution_count": 5,
   "id": "34ced2cc",
   "metadata": {
    "tags": []
   },
   "outputs": [
    {
     "data": {
      "application/vnd.jupyter.widget-view+json": {
       "model_id": "888298819573440d93546896ba83904a",
       "version_major": 2,
       "version_minor": 0
      },
      "text/plain": [
       "Canvas(toolbar=Toolbar(toolitems=[('Home', 'Reset original view', 'home', 'home'), ('Back', 'Back to previous …"
      ]
     },
     "metadata": {},
     "output_type": "display_data"
    },
    {
     "data": {
      "application/vnd.jupyter.widget-view+json": {
       "model_id": "7238261fcd7b4fbcb75281fceedf2e51",
       "version_major": 2,
       "version_minor": 0
      },
      "text/plain": [
       "interactive(children=(IntRangeSlider(value=(0, 2), description='No. of spectra displayed:', layout=Layout(widt…"
      ]
     },
     "metadata": {},
     "output_type": "display_data"
    }
   ],
   "source": [
    "Test.plot_norm()"
   ]
  },
  {
   "cell_type": "code",
   "execution_count": 11,
   "id": "1c8ced7d",
   "metadata": {
    "collapsed": true,
    "jupyter": {
     "outputs_hidden": true
    },
    "tags": []
   },
   "outputs": [
    {
     "data": {
      "application/vnd.jupyter.widget-view+json": {
       "model_id": "2552b4aeb3c94a378f43b71b13b94197",
       "version_major": 2,
       "version_minor": 0
      },
      "text/plain": [
       "Canvas(toolbar=Toolbar(toolitems=[('Home', 'Reset original view', 'home', 'home'), ('Back', 'Back to previous …"
      ]
     },
     "metadata": {},
     "output_type": "display_data"
    },
    {
     "data": {
      "application/vnd.jupyter.widget-view+json": {
       "model_id": "10c9d60cca554a32bf8257c8d11265bb",
       "version_major": 2,
       "version_minor": 0
      },
      "text/plain": [
       "interactive(children=(Text(value='- - - - Filler - - - - -', description='Name of figure:', layout=Layout(widt…"
      ]
     },
     "metadata": {},
     "output_type": "display_data"
    }
   ],
   "source": [
    "Test.plot_subtracted() "
   ]
  },
  {
   "cell_type": "code",
   "execution_count": null,
   "id": "9153a19c",
   "metadata": {
    "tags": []
   },
   "outputs": [],
   "source": [
    "Test.Peak_finder()"
   ]
  },
  {
   "cell_type": "code",
   "execution_count": null,
   "id": "fea1af2e",
   "metadata": {
    "tags": []
   },
   "outputs": [],
   "source": [
    "Test.Choose_one_spectrum()"
   ]
  },
  {
   "cell_type": "code",
   "execution_count": null,
   "id": "eda84444",
   "metadata": {},
   "outputs": [],
   "source": [
    "Test.ALS_peak_fitter()"
   ]
  },
  {
   "cell_type": "code",
   "execution_count": 6,
   "id": "124f6245",
   "metadata": {},
   "outputs": [
    {
     "data": {
      "application/vnd.jupyter.widget-view+json": {
       "model_id": "68c136cab75246d09ab86f67315bf37b",
       "version_major": 2,
       "version_minor": 0
      },
      "text/plain": [
       "Canvas(toolbar=Toolbar(toolitems=[('Home', 'Reset original view', 'home', 'home'), ('Back', 'Back to previous …"
      ]
     },
     "metadata": {},
     "output_type": "display_data"
    },
    {
     "data": {
      "application/vnd.jupyter.widget-view+json": {
       "model_id": "d649b74f4c424e3dafd600fcbaa047a3",
       "version_major": 2,
       "version_minor": 0
      },
      "text/plain": [
       "interactive(children=(Dropdown(description='x1', options=('beta_tomo004_after_probing.csv', 'beta_tomo004_pre_…"
      ]
     },
     "metadata": {},
     "output_type": "display_data"
    }
   ],
   "source": [
    "Test.selective_subtract()"
   ]
  },
  {
   "cell_type": "code",
   "execution_count": null,
   "id": "18fde1bd",
   "metadata": {},
   "outputs": [],
   "source": [
    "Test.ALS_peak_fitter()"
   ]
  },
  {
   "cell_type": "code",
   "execution_count": null,
   "id": "a9062a55",
   "metadata": {},
   "outputs": [],
   "source": [
    "Test.Reshape_file_names()"
   ]
  },
  {
   "cell_type": "code",
   "execution_count": 6,
   "id": "563cb42b",
   "metadata": {},
   "outputs": [
    {
     "name": "stdout",
     "output_type": "stream",
     "text": [
      "\n"
     ]
    },
    {
     "name": "stdin",
     "output_type": "stream",
     "text": [
      "Enter file name: Pyridine_dosing_differance.csv\n"
     ]
    },
    {
     "name": "stdout",
     "output_type": "stream",
     "text": [
      "\n",
      "\n",
      "\n"
     ]
    },
    {
     "data": {
      "application/vnd.jupyter.widget-view+json": {
       "model_id": "44e2920c60dd4c74ba5ce0221bd2910b",
       "version_major": 2,
       "version_minor": 0
      },
      "text/plain": [
       "VBox(children=(Output(),))"
      ]
     },
     "metadata": {},
     "output_type": "display_data"
    }
   ],
   "source": [
    "Test.Area_tool()\n"
   ]
  },
  {
   "cell_type": "code",
   "execution_count": null,
   "id": "567f690c",
   "metadata": {},
   "outputs": [],
   "source": []
  },
  {
   "cell_type": "code",
   "execution_count": null,
   "id": "8345b2c2",
   "metadata": {},
   "outputs": [],
   "source": []
  },
  {
   "cell_type": "code",
   "execution_count": null,
   "id": "550d6120",
   "metadata": {},
   "outputs": [],
   "source": []
  },
  {
   "cell_type": "code",
   "execution_count": null,
   "id": "802d5f27",
   "metadata": {},
   "outputs": [],
   "source": []
  },
  {
   "cell_type": "code",
   "execution_count": null,
   "id": "fab2a828",
   "metadata": {},
   "outputs": [],
   "source": []
  },
  {
   "cell_type": "code",
   "execution_count": null,
   "id": "c897f750",
   "metadata": {},
   "outputs": [],
   "source": [
    "\n",
    "    "
   ]
  },
  {
   "cell_type": "code",
   "execution_count": null,
   "id": "fb582ff1",
   "metadata": {},
   "outputs": [],
   "source": []
  },
  {
   "cell_type": "code",
   "execution_count": null,
   "id": "cc8d9521",
   "metadata": {},
   "outputs": [],
   "source": []
  },
  {
   "cell_type": "code",
   "execution_count": null,
   "id": "c620f278",
   "metadata": {},
   "outputs": [],
   "source": []
  },
  {
   "cell_type": "code",
   "execution_count": null,
   "id": "f64e7b74",
   "metadata": {},
   "outputs": [],
   "source": []
  },
  {
   "cell_type": "code",
   "execution_count": null,
   "id": "3f86ac6b",
   "metadata": {},
   "outputs": [],
   "source": []
  },
  {
   "cell_type": "code",
   "execution_count": null,
   "id": "26848292",
   "metadata": {},
   "outputs": [],
   "source": []
  },
  {
   "cell_type": "code",
   "execution_count": null,
   "id": "31674941",
   "metadata": {},
   "outputs": [],
   "source": []
  },
  {
   "cell_type": "code",
   "execution_count": null,
   "id": "5dc5a7ca",
   "metadata": {
    "tags": []
   },
   "outputs": [],
   "source": []
  },
  {
   "cell_type": "code",
   "execution_count": null,
   "id": "6348aad8",
   "metadata": {},
   "outputs": [],
   "source": []
  },
  {
   "cell_type": "code",
   "execution_count": null,
   "id": "99168d57",
   "metadata": {},
   "outputs": [],
   "source": []
  }
 ],
 "metadata": {
  "kernelspec": {
   "display_name": "Python [conda env:expr]",
   "language": "python",
   "name": "conda-env-expr-py"
  },
  "language_info": {
   "codemirror_mode": {
    "name": "ipython",
    "version": 3
   },
   "file_extension": ".py",
   "mimetype": "text/x-python",
   "name": "python",
   "nbconvert_exporter": "python",
   "pygments_lexer": "ipython3",
   "version": "3.8.8"
  }
 },
 "nbformat": 4,
 "nbformat_minor": 5
}
